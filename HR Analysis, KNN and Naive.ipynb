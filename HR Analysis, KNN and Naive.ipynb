{
 "cells": [
  {
   "cell_type": "code",
   "execution_count": 2,
   "metadata": {},
   "outputs": [
    {
     "name": "stdout",
     "output_type": "stream",
     "text": [
      "2.0.11\n"
     ]
    },
    {
     "name": "stderr",
     "output_type": "stream",
     "text": [
      "IOPub data rate exceeded.\n",
      "The notebook server will temporarily stop sending output\n",
      "to the client in order to avoid crashing it.\n",
      "To change this limit, set the config variable\n",
      "`--NotebookApp.iopub_data_rate_limit`.\n"
     ]
    }
   ],
   "source": [
    "#import package\n",
    "import matplotlib.pyplot as pp\n",
    "import pandas as pd\n",
    "import numpy as np\n",
    "import math\n",
    "import plotly.plotly as py\n",
    "import plotly.graph_objs as go\n",
    "import plotly\n",
    "pp.style.use('ggplot')\n",
    "py.sign_in('yy0919','HIfjPTCYuLUrerA5kMAx') #plotly API key\n",
    "print(plotly.__version__) #plotly version\n",
    "plotly.offline.init_notebook_mode() #run at the start"
   ]
  },
  {
   "cell_type": "code",
   "execution_count": 3,
   "metadata": {},
   "outputs": [
    {
     "data": {
      "text/plain": [
       "array(['Age', 'Attrition', 'BusinessTravel', 'DailyRate', 'Department',\n",
       "       'DistanceFromHome', 'Education', 'EducationField',\n",
       "       'EnvironmentSatisfaction', 'Gender', 'HourlyRate', 'JobInvolvement',\n",
       "       'JobLevel', 'JobRole', 'JobSatisfaction', 'MaritalStatus',\n",
       "       'MonthlyIncome', 'MonthlyRate', 'NumCompaniesWorked', 'OverTime',\n",
       "       'PercentSalaryHike', 'PerformanceRating',\n",
       "       'RelationshipSatisfaction', 'StockOptionLevel', 'TotalWorkingYears',\n",
       "       'TrainingTimesLastYear', 'WorkLifeBalance', 'YearsAtCompany',\n",
       "       'YearsInCurrentRole', 'YearsSinceLastPromotion',\n",
       "       'YearsWithCurrManager'], dtype=object)"
      ]
     },
     "execution_count": 3,
     "metadata": {},
     "output_type": "execute_result"
    }
   ],
   "source": [
    "#import dataset:HR and do clear data\n",
    "HR=pd.read_csv('IBM-HR-Employee-Attrition.csv')\n",
    "HR=HR.drop(['EmployeeCount','EmployeeNumber',  'Over18', 'StandardHours'], axis=1)\n",
    "HR.columns.values"
   ]
  },
  {
   "cell_type": "code",
   "execution_count": 4,
   "metadata": {
    "collapsed": true
   },
   "outputs": [],
   "source": [
    "#transfer some numeric variable to categorical variable for better data visualization. \n",
    "HR['Education']=HR['Education'].replace(1,'Below College').replace(2\n",
    ",'College').replace(3,'Bachelor').replace(4, 'Master').replace(5, 'Doctor')\n",
    "#transfer EnvironmentSatisfaction   \n",
    "HR['EnvironmentSatisfaction']=HR['EnvironmentSatisfaction'].replace(1,'Low').replace(2 \n",
    ",'Medium').replace(3, 'High').replace(4,'Very High')\n",
    "#transfer JobInvolvement   \n",
    "HR['JobInvolvement']=HR['JobInvolvement'].replace(1,'Low').replace(2 \n",
    ",'Medium').replace(3, 'High').replace(4,'Very High')\n",
    "#transfer JobSatisfaction \n",
    "HR['JobSatisfaction']=HR['JobSatisfaction'].replace(1,'Low').replace(2 \n",
    ",'Medium').replace(3, 'High').replace(4,'Very High')\n",
    "#transfer performacerating\n",
    "HR['PerformanceRating']=HR['PerformanceRating'].replace(1,'Low').replace(2 \n",
    ",'Good').replace(3, 'Excellent').replace(4,'Outstanding')\n",
    "#tranfer RelationshipSatisfaction \n",
    "HR['RelationshipSatisfaction']=HR['RelationshipSatisfaction'].replace(1,'Low').replace(2 \n",
    ",'Medium').replace(3, 'High').replace(4,'Very High')\n",
    "#transfer WorkLifeBalance\n",
    "HR['WorkLifeBalance']=HR['WorkLifeBalance'].replace(1,'Bad').replace(2 \n",
    ",'Good').replace(3, 'Better').replace(4,'Best')"
   ]
  },
  {
   "cell_type": "code",
   "execution_count": 5,
   "metadata": {},
   "outputs": [
    {
     "data": {
      "text/html": [
       "<div>\n",
       "<style>\n",
       "    .dataframe thead tr:only-child th {\n",
       "        text-align: right;\n",
       "    }\n",
       "\n",
       "    .dataframe thead th {\n",
       "        text-align: left;\n",
       "    }\n",
       "\n",
       "    .dataframe tbody tr th {\n",
       "        vertical-align: top;\n",
       "    }\n",
       "</style>\n",
       "<table border=\"1\" class=\"dataframe\">\n",
       "  <thead>\n",
       "    <tr style=\"text-align: right;\">\n",
       "      <th></th>\n",
       "      <th>Age</th>\n",
       "      <th>Attrition</th>\n",
       "      <th>BusinessTravel</th>\n",
       "      <th>DailyRate</th>\n",
       "      <th>Department</th>\n",
       "      <th>DistanceFromHome</th>\n",
       "      <th>Education</th>\n",
       "      <th>EducationField</th>\n",
       "      <th>EnvironmentSatisfaction</th>\n",
       "      <th>Gender</th>\n",
       "      <th>...</th>\n",
       "      <th>PerformanceRating</th>\n",
       "      <th>RelationshipSatisfaction</th>\n",
       "      <th>StockOptionLevel</th>\n",
       "      <th>TotalWorkingYears</th>\n",
       "      <th>TrainingTimesLastYear</th>\n",
       "      <th>WorkLifeBalance</th>\n",
       "      <th>YearsAtCompany</th>\n",
       "      <th>YearsInCurrentRole</th>\n",
       "      <th>YearsSinceLastPromotion</th>\n",
       "      <th>YearsWithCurrManager</th>\n",
       "    </tr>\n",
       "  </thead>\n",
       "  <tbody>\n",
       "    <tr>\n",
       "      <th>0</th>\n",
       "      <td>41</td>\n",
       "      <td>Yes</td>\n",
       "      <td>Travel_Rarely</td>\n",
       "      <td>1102</td>\n",
       "      <td>Sales</td>\n",
       "      <td>1</td>\n",
       "      <td>College</td>\n",
       "      <td>Life Sciences</td>\n",
       "      <td>Medium</td>\n",
       "      <td>Female</td>\n",
       "      <td>...</td>\n",
       "      <td>Excellent</td>\n",
       "      <td>Low</td>\n",
       "      <td>0</td>\n",
       "      <td>8</td>\n",
       "      <td>0</td>\n",
       "      <td>Bad</td>\n",
       "      <td>6</td>\n",
       "      <td>4</td>\n",
       "      <td>0</td>\n",
       "      <td>5</td>\n",
       "    </tr>\n",
       "    <tr>\n",
       "      <th>1</th>\n",
       "      <td>49</td>\n",
       "      <td>No</td>\n",
       "      <td>Travel_Frequently</td>\n",
       "      <td>279</td>\n",
       "      <td>Research &amp; Development</td>\n",
       "      <td>8</td>\n",
       "      <td>Below College</td>\n",
       "      <td>Life Sciences</td>\n",
       "      <td>High</td>\n",
       "      <td>Male</td>\n",
       "      <td>...</td>\n",
       "      <td>Outstanding</td>\n",
       "      <td>Very High</td>\n",
       "      <td>1</td>\n",
       "      <td>10</td>\n",
       "      <td>3</td>\n",
       "      <td>Better</td>\n",
       "      <td>10</td>\n",
       "      <td>7</td>\n",
       "      <td>1</td>\n",
       "      <td>7</td>\n",
       "    </tr>\n",
       "    <tr>\n",
       "      <th>2</th>\n",
       "      <td>37</td>\n",
       "      <td>Yes</td>\n",
       "      <td>Travel_Rarely</td>\n",
       "      <td>1373</td>\n",
       "      <td>Research &amp; Development</td>\n",
       "      <td>2</td>\n",
       "      <td>College</td>\n",
       "      <td>Other</td>\n",
       "      <td>Very High</td>\n",
       "      <td>Male</td>\n",
       "      <td>...</td>\n",
       "      <td>Excellent</td>\n",
       "      <td>Medium</td>\n",
       "      <td>0</td>\n",
       "      <td>7</td>\n",
       "      <td>3</td>\n",
       "      <td>Better</td>\n",
       "      <td>0</td>\n",
       "      <td>0</td>\n",
       "      <td>0</td>\n",
       "      <td>0</td>\n",
       "    </tr>\n",
       "    <tr>\n",
       "      <th>3</th>\n",
       "      <td>33</td>\n",
       "      <td>No</td>\n",
       "      <td>Travel_Frequently</td>\n",
       "      <td>1392</td>\n",
       "      <td>Research &amp; Development</td>\n",
       "      <td>3</td>\n",
       "      <td>Master</td>\n",
       "      <td>Life Sciences</td>\n",
       "      <td>Very High</td>\n",
       "      <td>Female</td>\n",
       "      <td>...</td>\n",
       "      <td>Excellent</td>\n",
       "      <td>High</td>\n",
       "      <td>0</td>\n",
       "      <td>8</td>\n",
       "      <td>3</td>\n",
       "      <td>Better</td>\n",
       "      <td>8</td>\n",
       "      <td>7</td>\n",
       "      <td>3</td>\n",
       "      <td>0</td>\n",
       "    </tr>\n",
       "    <tr>\n",
       "      <th>4</th>\n",
       "      <td>27</td>\n",
       "      <td>No</td>\n",
       "      <td>Travel_Rarely</td>\n",
       "      <td>591</td>\n",
       "      <td>Research &amp; Development</td>\n",
       "      <td>2</td>\n",
       "      <td>Below College</td>\n",
       "      <td>Medical</td>\n",
       "      <td>Low</td>\n",
       "      <td>Male</td>\n",
       "      <td>...</td>\n",
       "      <td>Excellent</td>\n",
       "      <td>Very High</td>\n",
       "      <td>1</td>\n",
       "      <td>6</td>\n",
       "      <td>3</td>\n",
       "      <td>Better</td>\n",
       "      <td>2</td>\n",
       "      <td>2</td>\n",
       "      <td>2</td>\n",
       "      <td>2</td>\n",
       "    </tr>\n",
       "  </tbody>\n",
       "</table>\n",
       "<p>5 rows × 31 columns</p>\n",
       "</div>"
      ],
      "text/plain": [
       "   Age Attrition     BusinessTravel  DailyRate              Department  \\\n",
       "0   41       Yes      Travel_Rarely       1102                   Sales   \n",
       "1   49        No  Travel_Frequently        279  Research & Development   \n",
       "2   37       Yes      Travel_Rarely       1373  Research & Development   \n",
       "3   33        No  Travel_Frequently       1392  Research & Development   \n",
       "4   27        No      Travel_Rarely        591  Research & Development   \n",
       "\n",
       "   DistanceFromHome      Education EducationField EnvironmentSatisfaction  \\\n",
       "0                 1        College  Life Sciences                  Medium   \n",
       "1                 8  Below College  Life Sciences                    High   \n",
       "2                 2        College          Other               Very High   \n",
       "3                 3         Master  Life Sciences               Very High   \n",
       "4                 2  Below College        Medical                     Low   \n",
       "\n",
       "   Gender         ...           PerformanceRating RelationshipSatisfaction  \\\n",
       "0  Female         ...                   Excellent                      Low   \n",
       "1    Male         ...                 Outstanding                Very High   \n",
       "2    Male         ...                   Excellent                   Medium   \n",
       "3  Female         ...                   Excellent                     High   \n",
       "4    Male         ...                   Excellent                Very High   \n",
       "\n",
       "   StockOptionLevel TotalWorkingYears TrainingTimesLastYear WorkLifeBalance  \\\n",
       "0                 0                 8                     0             Bad   \n",
       "1                 1                10                     3          Better   \n",
       "2                 0                 7                     3          Better   \n",
       "3                 0                 8                     3          Better   \n",
       "4                 1                 6                     3          Better   \n",
       "\n",
       "   YearsAtCompany  YearsInCurrentRole  YearsSinceLastPromotion  \\\n",
       "0               6                   4                        0   \n",
       "1              10                   7                        1   \n",
       "2               0                   0                        0   \n",
       "3               8                   7                        3   \n",
       "4               2                   2                        2   \n",
       "\n",
       "  YearsWithCurrManager  \n",
       "0                    5  \n",
       "1                    7  \n",
       "2                    0  \n",
       "3                    0  \n",
       "4                    2  \n",
       "\n",
       "[5 rows x 31 columns]"
      ]
     },
     "execution_count": 5,
     "metadata": {},
     "output_type": "execute_result"
    }
   ],
   "source": [
    "HR.head()"
   ]
  },
  {
   "cell_type": "code",
   "execution_count": 6,
   "metadata": {
    "collapsed": true
   },
   "outputs": [],
   "source": [
    "# create attrition group containing employees who had left company and nonattrition \n",
    "#group containing employees who still stay at company\n",
    "attrition=HR[HR.Attrition=='Yes']\n",
    "nonattrition=HR[HR.Attrition=='No']"
   ]
  },
  {
   "cell_type": "code",
   "execution_count": 7,
   "metadata": {
    "collapsed": true
   },
   "outputs": [],
   "source": [
    "#def function to plot pie-chart for categoical variable.\n",
    "def piechart_compare_figure(variable):\n",
    "    nonattri_label=nonattrition[variable].value_counts().index\n",
    "    nonattri_value=nonattrition[variable].value_counts().values\n",
    "    attri_label=attrition[variable].value_counts().index\n",
    "    attri_value=attrition[variable].value_counts().values \n",
    "    fig = {\n",
    "        \"data\": [\n",
    "            {\n",
    "                \"values\": attri_value,\n",
    "                \"labels\": attri_label,\n",
    "                \"domain\": {\"x\": [0, .48]},\n",
    "                \"name\": \"Leaving employment\",\n",
    "                \"hoverinfo\":\"label+percent+name\",\n",
    "                \"hole\": .4,\n",
    "                \"type\": \"pie\"\n",
    "            },\n",
    "            {\n",
    "                \"values\": nonattri_value,\n",
    "                \"labels\": nonattri_label,\n",
    "                \"text\":\"nonattrition\",\n",
    "                \"textposition\":\"inside\",\n",
    "                \"domain\": {\"x\": [.52, 1]},\n",
    "                \"name\": \"staying employment\",\n",
    "                \"hoverinfo\":\"label+percent+name\",\n",
    "                \"hole\": .4,\n",
    "                \"type\": \"pie\"\n",
    "            }],\n",
    "        \"layout\": {\n",
    "            \"title\":\"Percentage of {} in Attrition and Nonattrition Group \".format(variable),\n",
    "            \"annotations\": [\n",
    "                {\n",
    "                    \"font\": {\n",
    "                        \"size\": 20\n",
    "                    },\n",
    "                    \"showarrow\": False,\n",
    "                    \"text\": \"Attrition\",\n",
    "                    \"x\": 0.15,\n",
    "                    \"y\": 0.5\n",
    "                },\n",
    "                {\n",
    "                    \"font\": {\n",
    "                        \"size\": 20\n",
    "                    },\n",
    "                    \"showarrow\": False,\n",
    "                    \"text\": \"Nonattrition\",\n",
    "                    \"x\": 0.9,\n",
    "                    \"y\": 0.5\n",
    "                }\n",
    "            ]\n",
    "        }\n",
    "    }\n",
    "    return fig"
   ]
  },
  {
   "cell_type": "code",
   "execution_count": 8,
   "metadata": {},
   "outputs": [
    {
     "data": {
      "text/html": [
       "<iframe id=\"igraph\" scrolling=\"no\" style=\"border:none;\" seamless=\"seamless\" src=\"https://plot.ly/~yy0919/2.embed\" height=\"525px\" width=\"100%\"></iframe>"
      ],
      "text/plain": [
       "<plotly.tools.PlotlyDisplay object>"
      ]
     },
     "execution_count": 8,
     "metadata": {},
     "output_type": "execute_result"
    }
   ],
   "source": [
    "figure=piechart_compare_figure('JobRole')\n",
    "py.iplot(figure, filename='donut')"
   ]
  },
  {
   "cell_type": "code",
   "execution_count": 9,
   "metadata": {},
   "outputs": [
    {
     "data": {
      "text/html": [
       "<iframe id=\"igraph\" scrolling=\"no\" style=\"border:none;\" seamless=\"seamless\" src=\"https://plot.ly/~yy0919/2.embed\" height=\"525px\" width=\"100%\"></iframe>"
      ],
      "text/plain": [
       "<plotly.tools.PlotlyDisplay object>"
      ]
     },
     "execution_count": 9,
     "metadata": {},
     "output_type": "execute_result"
    }
   ],
   "source": [
    "figure=piechart_compare_figure('Department')\n",
    "py.iplot(figure, filename='donut')"
   ]
  },
  {
   "cell_type": "code",
   "execution_count": 11,
   "metadata": {},
   "outputs": [
    {
     "data": {
      "text/html": [
       "<iframe id=\"igraph\" scrolling=\"no\" style=\"border:none;\" seamless=\"seamless\" src=\"https://plot.ly/~yy0919/2.embed\" height=\"525px\" width=\"100%\"></iframe>"
      ],
      "text/plain": [
       "<plotly.tools.PlotlyDisplay object>"
      ]
     },
     "execution_count": 11,
     "metadata": {},
     "output_type": "execute_result"
    }
   ],
   "source": [
    "figure=piechart_compare_figure('Education')\n",
    "py.iplot(figure, filename='donut')"
   ]
  },
  {
   "cell_type": "code",
   "execution_count": 12,
   "metadata": {},
   "outputs": [
    {
     "data": {
      "text/html": [
       "<iframe id=\"igraph\" scrolling=\"no\" style=\"border:none;\" seamless=\"seamless\" src=\"https://plot.ly/~yy0919/2.embed\" height=\"525px\" width=\"100%\"></iframe>"
      ],
      "text/plain": [
       "<plotly.tools.PlotlyDisplay object>"
      ]
     },
     "execution_count": 12,
     "metadata": {},
     "output_type": "execute_result"
    }
   ],
   "source": [
    "figure=piechart_compare_figure('WorkLifeBalance')\n",
    "py.iplot(figure, filename='donut')"
   ]
  },
  {
   "cell_type": "code",
   "execution_count": 13,
   "metadata": {},
   "outputs": [
    {
     "data": {
      "text/html": [
       "<iframe id=\"igraph\" scrolling=\"no\" style=\"border:none;\" seamless=\"seamless\" src=\"https://plot.ly/~yy0919/2.embed\" height=\"525px\" width=\"100%\"></iframe>"
      ],
      "text/plain": [
       "<plotly.tools.PlotlyDisplay object>"
      ]
     },
     "execution_count": 13,
     "metadata": {},
     "output_type": "execute_result"
    }
   ],
   "source": [
    "figure=piechart_compare_figure('OverTime')\n",
    "py.iplot(figure, filename='donut')"
   ]
  },
  {
   "cell_type": "code",
   "execution_count": 14,
   "metadata": {
    "collapsed": true
   },
   "outputs": [],
   "source": [
    "def barchart_compare(x_variable, y_variable): #x should be categorical and Y is continuous\n",
    "    data_yes=attrition.groupby(x_variable).mean()[y_variable]\n",
    "    #find mean value of y in different x group in attrition group\n",
    "    data_no=nonattrition.groupby(x_variable).mean()[y_variable]\n",
    "    #find mean value of y in different x group in nonattrition group\n",
    "    ylim=data_no.max()*1.3 #determine ylim on graph. ylim= maximum value multiplies 1.3\n",
    "    #draw nonattrition group\n",
    "    pp.subplot(121)\n",
    "    pp.ylim(0,ylim)\n",
    "    pp.ylabel('Average {}'.format(y_variable))\n",
    "    data_yes.plot(kind='bar', title='Attrition Group',color='red')\n",
    "    pp.subplot(122)\n",
    "    pp.ylim(0,ylim)\n",
    "    data_no.plot(kind='bar', title='Nonattrition Group',color='blue')\n",
    "    pp.show()"
   ]
  },
  {
   "cell_type": "code",
   "execution_count": 15,
   "metadata": {},
   "outputs": [
    {
     "data": {
      "image/png": "[encoded data removed]",
      "text/plain": [
       "<matplotlib.figure.Figure at 0x10ee33940>"
      ]
     },
     "metadata": {},
     "output_type": "display_data"
    }
   ],
   "source": [
    "barchart_compare('Education','MonthlyIncome')"
   ]
  },
  {
   "cell_type": "code",
   "execution_count": 16,
   "metadata": {},
   "outputs": [
    {
     "data": {
      "image/png": "[encoded data removed]",
      "text/plain": [
       "<matplotlib.figure.Figure at 0x10ef906d8>"
      ]
     },
     "metadata": {},
     "output_type": "display_data"
    }
   ],
   "source": [
    "barchart_compare('Education','TotalWorkingYears')"
   ]
  },
  {
   "cell_type": "code",
   "execution_count": 18,
   "metadata": {},
   "outputs": [
    {
     "data": {
      "image/png": "[encoded data removed]",
      "text/plain": [
       "<matplotlib.figure.Figure at 0x10e587ac8>"
      ]
     },
     "metadata": {},
     "output_type": "display_data"
    }
   ],
   "source": [
    "barchart_compare('JobRole','MonthlyIncome')"
   ]
  },
  {
   "cell_type": "code",
   "execution_count": 19,
   "metadata": {},
   "outputs": [
    {
     "data": {
      "image/png": "[encoded data removed]",
      "text/plain": [
       "<matplotlib.figure.Figure at 0x10eff0780>"
      ]
     },
     "metadata": {},
     "output_type": "display_data"
    }
   ],
   "source": [
    "barchart_compare('JobSatisfaction','DistanceFromHome')"
   ]
  },
  {
   "cell_type": "code",
   "execution_count": 21,
   "metadata": {},
   "outputs": [
    {
     "data": {
      "text/html": [
       "<div>\n",
       "<style>\n",
       "    .dataframe thead tr:only-child th {\n",
       "        text-align: right;\n",
       "    }\n",
       "\n",
       "    .dataframe thead th {\n",
       "        text-align: left;\n",
       "    }\n",
       "\n",
       "    .dataframe tbody tr th {\n",
       "        vertical-align: top;\n",
       "    }\n",
       "</style>\n",
       "<table border=\"1\" class=\"dataframe\">\n",
       "  <thead>\n",
       "    <tr style=\"text-align: right;\">\n",
       "      <th></th>\n",
       "      <th>Age</th>\n",
       "      <th>DailyRate</th>\n",
       "      <th>DistanceFromHome</th>\n",
       "      <th>Education</th>\n",
       "      <th>EnvironmentSatisfaction</th>\n",
       "      <th>HourlyRate</th>\n",
       "      <th>JobInvolvement</th>\n",
       "      <th>JobLevel</th>\n",
       "      <th>JobSatisfaction</th>\n",
       "      <th>MonthlyIncome</th>\n",
       "      <th>...</th>\n",
       "      <th>PerformanceRating</th>\n",
       "      <th>RelationshipSatisfaction</th>\n",
       "      <th>StockOptionLevel</th>\n",
       "      <th>TotalWorkingYears</th>\n",
       "      <th>TrainingTimesLastYear</th>\n",
       "      <th>WorkLifeBalance</th>\n",
       "      <th>YearsAtCompany</th>\n",
       "      <th>YearsInCurrentRole</th>\n",
       "      <th>YearsSinceLastPromotion</th>\n",
       "      <th>YearsWithCurrManager</th>\n",
       "    </tr>\n",
       "  </thead>\n",
       "  <tbody>\n",
       "    <tr>\n",
       "      <th>0</th>\n",
       "      <td>41</td>\n",
       "      <td>1102</td>\n",
       "      <td>1</td>\n",
       "      <td>2</td>\n",
       "      <td>2</td>\n",
       "      <td>94</td>\n",
       "      <td>3</td>\n",
       "      <td>2</td>\n",
       "      <td>4</td>\n",
       "      <td>5993</td>\n",
       "      <td>...</td>\n",
       "      <td>3</td>\n",
       "      <td>1</td>\n",
       "      <td>0</td>\n",
       "      <td>8</td>\n",
       "      <td>0</td>\n",
       "      <td>1</td>\n",
       "      <td>6</td>\n",
       "      <td>4</td>\n",
       "      <td>0</td>\n",
       "      <td>5</td>\n",
       "    </tr>\n",
       "    <tr>\n",
       "      <th>1</th>\n",
       "      <td>49</td>\n",
       "      <td>279</td>\n",
       "      <td>8</td>\n",
       "      <td>1</td>\n",
       "      <td>3</td>\n",
       "      <td>61</td>\n",
       "      <td>2</td>\n",
       "      <td>2</td>\n",
       "      <td>2</td>\n",
       "      <td>5130</td>\n",
       "      <td>...</td>\n",
       "      <td>4</td>\n",
       "      <td>4</td>\n",
       "      <td>1</td>\n",
       "      <td>10</td>\n",
       "      <td>3</td>\n",
       "      <td>3</td>\n",
       "      <td>10</td>\n",
       "      <td>7</td>\n",
       "      <td>1</td>\n",
       "      <td>7</td>\n",
       "    </tr>\n",
       "    <tr>\n",
       "      <th>2</th>\n",
       "      <td>37</td>\n",
       "      <td>1373</td>\n",
       "      <td>2</td>\n",
       "      <td>2</td>\n",
       "      <td>4</td>\n",
       "      <td>92</td>\n",
       "      <td>2</td>\n",
       "      <td>1</td>\n",
       "      <td>3</td>\n",
       "      <td>2090</td>\n",
       "      <td>...</td>\n",
       "      <td>3</td>\n",
       "      <td>2</td>\n",
       "      <td>0</td>\n",
       "      <td>7</td>\n",
       "      <td>3</td>\n",
       "      <td>3</td>\n",
       "      <td>0</td>\n",
       "      <td>0</td>\n",
       "      <td>0</td>\n",
       "      <td>0</td>\n",
       "    </tr>\n",
       "    <tr>\n",
       "      <th>3</th>\n",
       "      <td>33</td>\n",
       "      <td>1392</td>\n",
       "      <td>3</td>\n",
       "      <td>4</td>\n",
       "      <td>4</td>\n",
       "      <td>56</td>\n",
       "      <td>3</td>\n",
       "      <td>1</td>\n",
       "      <td>3</td>\n",
       "      <td>2909</td>\n",
       "      <td>...</td>\n",
       "      <td>3</td>\n",
       "      <td>3</td>\n",
       "      <td>0</td>\n",
       "      <td>8</td>\n",
       "      <td>3</td>\n",
       "      <td>3</td>\n",
       "      <td>8</td>\n",
       "      <td>7</td>\n",
       "      <td>3</td>\n",
       "      <td>0</td>\n",
       "    </tr>\n",
       "    <tr>\n",
       "      <th>4</th>\n",
       "      <td>27</td>\n",
       "      <td>591</td>\n",
       "      <td>2</td>\n",
       "      <td>1</td>\n",
       "      <td>1</td>\n",
       "      <td>40</td>\n",
       "      <td>3</td>\n",
       "      <td>1</td>\n",
       "      <td>2</td>\n",
       "      <td>3468</td>\n",
       "      <td>...</td>\n",
       "      <td>3</td>\n",
       "      <td>4</td>\n",
       "      <td>1</td>\n",
       "      <td>6</td>\n",
       "      <td>3</td>\n",
       "      <td>3</td>\n",
       "      <td>2</td>\n",
       "      <td>2</td>\n",
       "      <td>2</td>\n",
       "      <td>2</td>\n",
       "    </tr>\n",
       "  </tbody>\n",
       "</table>\n",
       "<p>5 rows × 23 columns</p>\n",
       "</div>"
      ],
      "text/plain": [
       "   Age  DailyRate  DistanceFromHome  Education  EnvironmentSatisfaction  \\\n",
       "0   41       1102                 1          2                        2   \n",
       "1   49        279                 8          1                        3   \n",
       "2   37       1373                 2          2                        4   \n",
       "3   33       1392                 3          4                        4   \n",
       "4   27        591                 2          1                        1   \n",
       "\n",
       "   HourlyRate  JobInvolvement  JobLevel  JobSatisfaction  MonthlyIncome  \\\n",
       "0          94               3         2                4           5993   \n",
       "1          61               2         2                2           5130   \n",
       "2          92               2         1                3           2090   \n",
       "3          56               3         1                3           2909   \n",
       "4          40               3         1                2           3468   \n",
       "\n",
       "           ...           PerformanceRating  RelationshipSatisfaction  \\\n",
       "0          ...                           3                         1   \n",
       "1          ...                           4                         4   \n",
       "2          ...                           3                         2   \n",
       "3          ...                           3                         3   \n",
       "4          ...                           3                         4   \n",
       "\n",
       "   StockOptionLevel  TotalWorkingYears  TrainingTimesLastYear  \\\n",
       "0                 0                  8                      0   \n",
       "1                 1                 10                      3   \n",
       "2                 0                  7                      3   \n",
       "3                 0                  8                      3   \n",
       "4                 1                  6                      3   \n",
       "\n",
       "   WorkLifeBalance  YearsAtCompany  YearsInCurrentRole  \\\n",
       "0                1               6                   4   \n",
       "1                3              10                   7   \n",
       "2                3               0                   0   \n",
       "3                3               8                   7   \n",
       "4                3               2                   2   \n",
       "\n",
       "   YearsSinceLastPromotion  YearsWithCurrManager  \n",
       "0                        0                     5  \n",
       "1                        1                     7  \n",
       "2                        0                     0  \n",
       "3                        3                     0  \n",
       "4                        2                     2  \n",
       "\n",
       "[5 rows x 23 columns]"
      ]
     },
     "execution_count": 21,
     "metadata": {},
     "output_type": "execute_result"
    }
   ],
   "source": [
    "#for KNN method, import dataset to normalize\n",
    "HR=pd.read_csv('/Users/yang/Desktop/2017fall/data mining/project2/IBM-HR-Employee-Attrition.csv')\n",
    "HR=HR.drop(['EmployeeCount','EmployeeNumber',  'Over18', 'StandardHours'], axis=1)\n",
    "#Select numeric variables in dataset\n",
    "object_name=HR.select_dtypes(['object']).columns.values\n",
    "HR_KNN=HR.drop(object_name,axis=1)\n",
    "HR_KNN.head()"
   ]
  },
  {
   "cell_type": "code",
   "execution_count": 22,
   "metadata": {
    "collapsed": true
   },
   "outputs": [],
   "source": [
    "class Classifier_KNN:\n",
    "    \n",
    "    #define function to get median number of numeric variable\n",
    "    def getmedian(self,variable):\n",
    "        list=variable.tolist()\n",
    "        if list==[]:\n",
    "            return []\n",
    "        sort_list=sorted(list)\n",
    "        length=len(sort_list)\n",
    "        if length%2==1:\n",
    "            return sort_list[int((length+1)/2-1)]\n",
    "        else:\n",
    "            return (sort_list[int(length/2-1)]+sort_list[int(length/2)])/2\n",
    "        \n",
    "    #define a function to calcualte standard deviation of variable\n",
    "    def getabsolutestardanddeviation(self,variable):\n",
    "        sum=0\n",
    "        median=self.getmedian(variable)\n",
    "        for item in variable:\n",
    "            sum+=abs(item-median)\n",
    "        return sum/len(variable)\n",
    "    \n",
    "    # define a function to normalized variable for a dataset\n",
    "    def normalizecolumn(self,dataset):\n",
    "        for i in dataset.columns.values:\n",
    "            vector=dataset[i]\n",
    "            vector_median=self.getmedian(vector)#get median number \n",
    "            vector_asd=self.getabsolutestardanddeviation(vector)#get standard deviation of variable\n",
    "            dataset[i]=(vector-vector_median)/vector_asd\n",
    "    #Define Manhattan function. absolute value between two items\n",
    "    def manhattan(self,vector1,vector2):\n",
    "        distance=0\n",
    "        total=0\n",
    "        n=len(vector1)\n",
    "        for i in range(n):\n",
    "            distance+=abs(vector1[i]-vector2[i])#sum of absolute distance\n",
    "        return distance\n",
    "    \n",
    "    # new method\n",
    "    #K Nearest Neighbors(KNN) \n",
    "    #creates a sorted list of items based on their distance to item\n",
    "    #K=5\n",
    "    def classify(self,id_number,traindata):\n",
    "        distances=[]\n",
    "        for id_other in traindata.index:\n",
    "            distance=self.manhattan(HR_KNN.loc[id_number],traindata.loc[id_other])\n",
    "            distances.append((distance,id_other))\n",
    "        distances.sort()\n",
    "        neighbor=distances[1:6]\n",
    "        attrition_vote=0\n",
    "        nonattrition_vote=0\n",
    "        for i in pd.DataFrame(neighbor).iloc[:,1]:\n",
    "            item=HR.loc[i][1]\n",
    "            if item=='Yes':\n",
    "                attrition_vote+=1\n",
    "            elif item=='No':\n",
    "                nonattrition_vote+=1\n",
    "            if attrition_vote > nonattrition_vote:\n",
    "                return('Yes')\n",
    "            elif attrition_vote < nonattrition_vote:\n",
    "                return('No')\n",
    "    \n",
    "    # test the accuracy of KNN method and print result\n",
    "\n",
    "    def KNN_accuracy(self,train_data,test_data):\n",
    "        result={}\n",
    "        n11=0;n22=0;n12=0;n21=0\n",
    "        for id in test_data.index:\n",
    "            classify_result={id:self.classify(id,train_data)}\n",
    "            result.update(classify_result)\n",
    "            if classify_result[id]=='Yes'and HR.loc[id][1]=='Yes':\n",
    "                n11=n11+1\n",
    "            elif classify_result[id]=='No'and HR.loc[id][1]=='No':\n",
    "                n22=n22+1\n",
    "            elif classify_result[id]=='Yes'and HR.loc[id][1]=='No':\n",
    "                n12=n12+1\n",
    "            elif classify_result[id]=='No'and HR.loc[id][1]=='Yes':\n",
    "                n21=n21+1\n",
    "        n=n11+n12+n21+n22\n",
    "        p=(n11+n22)/n\n",
    "        r=((n11+n12)/n)*(n11+n21)+((n21+n22)/n)*(n12+n22)\n",
    "        pr=r/n\n",
    "        #print result of classify(Confusion Matrix) and accuracy \n",
    "        print( \"\\n        Classified as: \")\n",
    "        print(\"         \"+\"Yes\"+\"     No\"+\"      Total\")\n",
    "        print(\"------+-------+--------+-------\")\n",
    "        print(\"|Yes   | \",n11,\" | \",n21,\"   | \",n21+n11,'|')\n",
    "        print(\"|No    | \",n12,\" | \",n22,\"  |\",n22+n12,'|')\n",
    "        print(\"|Total | \",n11+n12,\" | \",n21+n22,\"  |\",n,'|')\n",
    "        print('\\npercent correct of KNN Method:%5.3f'%p)\n",
    "        print('percent correct of Random Method:%5.3f'%pr)\n",
    "        print('Kappa statistic=%5.3f'%((p-pr)/(1-pr)))"
   ]
  },
  {
   "cell_type": "code",
   "execution_count": 23,
   "metadata": {},
   "outputs": [
    {
     "data": {
      "text/html": [
       "<div>\n",
       "<style>\n",
       "    .dataframe thead tr:only-child th {\n",
       "        text-align: right;\n",
       "    }\n",
       "\n",
       "    .dataframe thead th {\n",
       "        text-align: left;\n",
       "    }\n",
       "\n",
       "    .dataframe tbody tr th {\n",
       "        vertical-align: top;\n",
       "    }\n",
       "</style>\n",
       "<table border=\"1\" class=\"dataframe\">\n",
       "  <thead>\n",
       "    <tr style=\"text-align: right;\">\n",
       "      <th></th>\n",
       "      <th>Age</th>\n",
       "      <th>DailyRate</th>\n",
       "      <th>DistanceFromHome</th>\n",
       "      <th>Education</th>\n",
       "      <th>EnvironmentSatisfaction</th>\n",
       "      <th>HourlyRate</th>\n",
       "      <th>JobInvolvement</th>\n",
       "      <th>JobLevel</th>\n",
       "      <th>JobSatisfaction</th>\n",
       "      <th>MonthlyIncome</th>\n",
       "      <th>...</th>\n",
       "      <th>PerformanceRating</th>\n",
       "      <th>RelationshipSatisfaction</th>\n",
       "      <th>StockOptionLevel</th>\n",
       "      <th>TotalWorkingYears</th>\n",
       "      <th>TrainingTimesLastYear</th>\n",
       "      <th>WorkLifeBalance</th>\n",
       "      <th>YearsAtCompany</th>\n",
       "      <th>YearsInCurrentRole</th>\n",
       "      <th>YearsSinceLastPromotion</th>\n",
       "      <th>YearsWithCurrManager</th>\n",
       "    </tr>\n",
       "  </thead>\n",
       "  <tbody>\n",
       "    <tr>\n",
       "      <th>0</th>\n",
       "      <td>0.682071</td>\n",
       "      <td>0.856524</td>\n",
       "      <td>-0.952175</td>\n",
       "      <td>-1.317204</td>\n",
       "      <td>-1.1299</td>\n",
       "      <td>1.586616</td>\n",
       "      <td>0.000000</td>\n",
       "      <td>0.000000</td>\n",
       "      <td>1.116173</td>\n",
       "      <td>0.320875</td>\n",
       "      <td>...</td>\n",
       "      <td>0.000000</td>\n",
       "      <td>-2.284382</td>\n",
       "      <td>-1.532847</td>\n",
       "      <td>-0.351296</td>\n",
       "      <td>-3.134328</td>\n",
       "      <td>-4.474886</td>\n",
       "      <td>0.235050</td>\n",
       "      <td>0.346453</td>\n",
       "      <td>-0.505502</td>\n",
       "      <td>0.696517</td>\n",
       "    </tr>\n",
       "    <tr>\n",
       "      <th>1</th>\n",
       "      <td>1.773385</td>\n",
       "      <td>-1.493206</td>\n",
       "      <td>0.158696</td>\n",
       "      <td>-2.634409</td>\n",
       "      <td>0.0000</td>\n",
       "      <td>-0.283324</td>\n",
       "      <td>-2.145985</td>\n",
       "      <td>0.000000</td>\n",
       "      <td>-1.116173</td>\n",
       "      <td>0.063040</td>\n",
       "      <td>...</td>\n",
       "      <td>6.504425</td>\n",
       "      <td>1.142191</td>\n",
       "      <td>0.000000</td>\n",
       "      <td>0.000000</td>\n",
       "      <td>0.000000</td>\n",
       "      <td>0.000000</td>\n",
       "      <td>1.175248</td>\n",
       "      <td>1.385812</td>\n",
       "      <td>0.000000</td>\n",
       "      <td>1.393035</td>\n",
       "    </tr>\n",
       "    <tr>\n",
       "      <th>2</th>\n",
       "      <td>0.136414</td>\n",
       "      <td>1.630250</td>\n",
       "      <td>-0.793479</td>\n",
       "      <td>-1.317204</td>\n",
       "      <td>1.1299</td>\n",
       "      <td>1.473287</td>\n",
       "      <td>-2.145985</td>\n",
       "      <td>-1.245763</td>\n",
       "      <td>0.000000</td>\n",
       "      <td>-0.845210</td>\n",
       "      <td>...</td>\n",
       "      <td>0.000000</td>\n",
       "      <td>-1.142191</td>\n",
       "      <td>-1.532847</td>\n",
       "      <td>-0.526945</td>\n",
       "      <td>0.000000</td>\n",
       "      <td>0.000000</td>\n",
       "      <td>-1.175248</td>\n",
       "      <td>-1.039359</td>\n",
       "      <td>-0.505502</td>\n",
       "      <td>-1.044776</td>\n",
       "    </tr>\n",
       "    <tr>\n",
       "      <th>3</th>\n",
       "      <td>-0.409243</td>\n",
       "      <td>1.684496</td>\n",
       "      <td>-0.634784</td>\n",
       "      <td>1.317204</td>\n",
       "      <td>1.1299</td>\n",
       "      <td>-0.566649</td>\n",
       "      <td>0.000000</td>\n",
       "      <td>-1.245763</td>\n",
       "      <td>0.000000</td>\n",
       "      <td>-0.600520</td>\n",
       "      <td>...</td>\n",
       "      <td>0.000000</td>\n",
       "      <td>0.000000</td>\n",
       "      <td>-1.532847</td>\n",
       "      <td>-0.351296</td>\n",
       "      <td>0.000000</td>\n",
       "      <td>0.000000</td>\n",
       "      <td>0.705149</td>\n",
       "      <td>1.385812</td>\n",
       "      <td>1.011004</td>\n",
       "      <td>-1.044776</td>\n",
       "    </tr>\n",
       "    <tr>\n",
       "      <th>4</th>\n",
       "      <td>-1.227728</td>\n",
       "      <td>-0.602422</td>\n",
       "      <td>-0.793479</td>\n",
       "      <td>-2.634409</td>\n",
       "      <td>-2.2598</td>\n",
       "      <td>-1.473287</td>\n",
       "      <td>0.000000</td>\n",
       "      <td>-1.245763</td>\n",
       "      <td>-1.116173</td>\n",
       "      <td>-0.433510</td>\n",
       "      <td>...</td>\n",
       "      <td>0.000000</td>\n",
       "      <td>1.142191</td>\n",
       "      <td>0.000000</td>\n",
       "      <td>-0.702593</td>\n",
       "      <td>0.000000</td>\n",
       "      <td>0.000000</td>\n",
       "      <td>-0.705149</td>\n",
       "      <td>-0.346453</td>\n",
       "      <td>0.505502</td>\n",
       "      <td>-0.348259</td>\n",
       "    </tr>\n",
       "  </tbody>\n",
       "</table>\n",
       "<p>5 rows × 23 columns</p>\n",
       "</div>"
      ],
      "text/plain": [
       "        Age  DailyRate  DistanceFromHome  Education  EnvironmentSatisfaction  \\\n",
       "0  0.682071   0.856524         -0.952175  -1.317204                  -1.1299   \n",
       "1  1.773385  -1.493206          0.158696  -2.634409                   0.0000   \n",
       "2  0.136414   1.630250         -0.793479  -1.317204                   1.1299   \n",
       "3 -0.409243   1.684496         -0.634784   1.317204                   1.1299   \n",
       "4 -1.227728  -0.602422         -0.793479  -2.634409                  -2.2598   \n",
       "\n",
       "   HourlyRate  JobInvolvement  JobLevel  JobSatisfaction  MonthlyIncome  \\\n",
       "0    1.586616        0.000000  0.000000         1.116173       0.320875   \n",
       "1   -0.283324       -2.145985  0.000000        -1.116173       0.063040   \n",
       "2    1.473287       -2.145985 -1.245763         0.000000      -0.845210   \n",
       "3   -0.566649        0.000000 -1.245763         0.000000      -0.600520   \n",
       "4   -1.473287        0.000000 -1.245763        -1.116173      -0.433510   \n",
       "\n",
       "           ...           PerformanceRating  RelationshipSatisfaction  \\\n",
       "0          ...                    0.000000                 -2.284382   \n",
       "1          ...                    6.504425                  1.142191   \n",
       "2          ...                    0.000000                 -1.142191   \n",
       "3          ...                    0.000000                  0.000000   \n",
       "4          ...                    0.000000                  1.142191   \n",
       "\n",
       "   StockOptionLevel  TotalWorkingYears  TrainingTimesLastYear  \\\n",
       "0         -1.532847          -0.351296              -3.134328   \n",
       "1          0.000000           0.000000               0.000000   \n",
       "2         -1.532847          -0.526945               0.000000   \n",
       "3         -1.532847          -0.351296               0.000000   \n",
       "4          0.000000          -0.702593               0.000000   \n",
       "\n",
       "   WorkLifeBalance  YearsAtCompany  YearsInCurrentRole  \\\n",
       "0        -4.474886        0.235050            0.346453   \n",
       "1         0.000000        1.175248            1.385812   \n",
       "2         0.000000       -1.175248           -1.039359   \n",
       "3         0.000000        0.705149            1.385812   \n",
       "4         0.000000       -0.705149           -0.346453   \n",
       "\n",
       "   YearsSinceLastPromotion  YearsWithCurrManager  \n",
       "0                -0.505502              0.696517  \n",
       "1                 0.000000              1.393035  \n",
       "2                -0.505502             -1.044776  \n",
       "3                 1.011004             -1.044776  \n",
       "4                 0.505502             -0.348259  \n",
       "\n",
       "[5 rows x 23 columns]"
      ]
     },
     "execution_count": 23,
     "metadata": {},
     "output_type": "execute_result"
    }
   ],
   "source": [
    "#Normalize numeric variable\n",
    "Classify_KNN=Classifier_KNN()\n",
    "Classify_KNN.normalizecolumn(HR_KNN)\n",
    "HR_KNN.head()"
   ]
  },
  {
   "cell_type": "code",
   "execution_count": 24,
   "metadata": {},
   "outputs": [
    {
     "data": {
      "text/plain": [
       "38.094948187738844"
      ]
     },
     "execution_count": 24,
     "metadata": {},
     "output_type": "execute_result"
    }
   ],
   "source": [
    "Classify_KNN.manhattan(HR_KNN.loc[1111],HR_KNN.loc[1323])"
   ]
  },
  {
   "cell_type": "code",
   "execution_count": 25,
   "metadata": {},
   "outputs": [
    {
     "data": {
      "text/plain": [
       "'No'"
      ]
     },
     "execution_count": 25,
     "metadata": {},
     "output_type": "execute_result"
    }
   ],
   "source": [
    "Classify_KNN.classify(1461,HR_KNN.head(1323))"
   ]
  },
  {
   "cell_type": "code",
   "execution_count": 26,
   "metadata": {},
   "outputs": [
    {
     "name": "stdout",
     "output_type": "stream",
     "text": [
      "\n",
      "        Classified as: \n",
      "         Yes     No      Total\n",
      "------+-------+--------+-------\n",
      "|Yes   |  5  |  18    |  23 |\n",
      "|No    |  15  |  109   | 124 |\n",
      "|Total |  20  |  127   | 147 |\n",
      "\n",
      "percent correct of KNN Method:0.776\n",
      "percent correct of Random Method:0.750\n",
      "Kappa statistic=0.102\n"
     ]
    }
   ],
   "source": [
    "# this cell code need 6 mins to run.\n",
    "# random select 90% observation as training dataset. Test the accuracy to classify\n",
    "#observations in testing dataset.\n",
    "train=HR_KNN.sample(frac=0.9)\n",
    "test=HR_KNN.drop(train.index,axis=0)\n",
    "Classify_KNN.KNN_accuracy(train,test)"
   ]
  },
  {
   "cell_type": "code",
   "execution_count": 27,
   "metadata": {
    "collapsed": true
   },
   "outputs": [],
   "source": [
    "class Classifier_Bayes:\n",
    "    def __init__(self,train_data):\n",
    "        self.train=train_data \n",
    "        self.attrition=train[train['Attrition']=='Yes'].drop(['Attrition'], axis=1)\n",
    "        self.nonattrition=train[train['Attrition']=='No'].drop(['Attrition'], axis=1)\n",
    "        self.attrition_meanandssd={}\n",
    "        self.nonattrition_meanandssd={}\n",
    "        self.attrition_pdf={}# pdf of categorical variables in attrition group\n",
    "        self.nonattrition_pdf={}# pdf of categorical variables in nonattrition group\n",
    "    def name(self):\n",
    "        self.attrition.name='attrition'\n",
    "        self.nonattrition.name='nonattrition'\n",
    "        \n",
    "    # define function to calculat stardand deviation of a variable\n",
    "    def getsd(self,variable):\n",
    "        list=variable.tolist()\n",
    "        sum=0\n",
    "        for item in list:\n",
    "            sum+=(item-variable.mean())**2 # sum square of difference\n",
    "        return math.sqrt(sum/(len(list)-1))\n",
    "    \n",
    "    # calculate ssd and mean value of numeric variable in attrition and nonattrition group\n",
    "    # save them in dictionary\n",
    "    def meanandssd_dictionary(self):\n",
    "        numeric_variables=self.train.select_dtypes(['int64']).columns.values\n",
    "        for key in numeric_variables:\n",
    "            item={key:{'mean':self.attrition[key].mean(),'ssd':self.getsd(self.attrition[key])}}\n",
    "            self.attrition_meanandssd.update(item)\n",
    "        for key in numeric_variables:\n",
    "            item={key:{'mean':self.nonattrition[key].mean(),'ssd':self.getsd(self.nonattrition[key])}}\n",
    "            self.nonattrition_meanandssd.update(item)\n",
    "        \n",
    "    # calculate conditional pdf of categorical variables and save them in dictionary\n",
    "    def categorical_pdf_dictionary(self):\n",
    "        categorical_variables=self.attrition.select_dtypes(['object']).columns.values\n",
    "        for variable in categorical_variables:\n",
    "            result={}\n",
    "            for key in self.train[variable].unique():\n",
    "                p=self.attrition[variable].value_counts()[key]/self.attrition.shape[0]\n",
    "                result.update({key:p}) \n",
    "            self.attrition_pdf.update({variable:result})\n",
    "        for variable in categorical_variables:\n",
    "            result={}\n",
    "            for key in self.train[variable].unique():\n",
    "                p=self.nonattrition[variable].value_counts()[key]/self.nonattrition.shape[0]\n",
    "                result.update({key:p}) \n",
    "            self.nonattrition_pdf.update({variable:result})\n",
    " \n",
    "   \n",
    "    \n",
    "                                   \n",
    "    #define probability density function, input mean, sample standard deviation\n",
    "    def pdf(self,mean, ssd, x):\n",
    "        epart=math.e**(-(x-mean)**2/(2*ssd**2))\n",
    "        return (1/(math.sqrt(2*math.pi)*ssd))*epart\n",
    "    \n",
    "    #define function numeric_pdf to calculate probability distribution function of numeric variable\n",
    "    def numeric_pdf(self,x,variable,condition):\n",
    "        if self.attrition.name==condition:\n",
    "            ssd=self.attrition_meanandssd[variable]['ssd']\n",
    "            mean=self.attrition_meanandssd[variable]['mean']\n",
    "        else:\n",
    "            ssd=self.nonattrition_meanandssd[variable]['ssd']\n",
    "            mean=self.nonattrition_meanandssd[variable]['mean']\n",
    "        p=self.pdf(x,ssd,mean)\n",
    "        return p \n",
    "    \n",
    "    def category_pdf(self,x,variable,condition):\n",
    "        if self.attrition.name==condition:\n",
    "            p=self.attrition_pdf[variable][x]\n",
    "        else: p=self.nonattrition_pdf[variable][x]\n",
    "        return p\n",
    "    \n",
    "    # define function to calculate conditional pdf for one observation with numerical \n",
    "    # and categorical variable\n",
    "    def conditionalprobabilty(self,id,condition,testdata):\n",
    "        a=self.attrition.shape[0]/(self.attrition.shape[0]+self.nonattrition.shape[0])\n",
    "        if condition==self.attrition.name: p=a# define p(attrition)\n",
    "        else: p=1-a# define p(nonattrition)\n",
    "        vector=testdata.drop(['Attrition'], axis=1).loc[id].to_dict()\n",
    "       #transfer to dictionary\n",
    "        for key in vector:\n",
    "            # determine variabel is numerical or categorical\n",
    "            if self.train[key].dtypes=='int64':\n",
    "                key_pdf_num=self.numeric_pdf(vector[key],key,condition)\n",
    "                p=p*key_pdf_num\n",
    "            else: \n",
    "                key_pdf_class=self.category_pdf(vector[key],key,condition)\n",
    "                p=p*key_pdf_class\n",
    "        return p\n",
    "    \n",
    "    # classify based on the probability of attrition and nonattrition happen\n",
    "    def classify(self,id,testdata):\n",
    "        p_attri=self.conditionalprobabilty(id,'attrition',testdata)\n",
    "        p_nonattri=self.conditionalprobabilty(id,'nonattrition',testdata)\n",
    "        if p_attri>p_nonattri: \n",
    "            return {id:'Yes'}\n",
    "        if p_nonattri>p_attri:\n",
    "            return {id:'No'}\n",
    "\n",
    "    def bayes_testaccuracy(self,testdata):\n",
    "        sum_result={} #create empty dictionary\n",
    "        n11=0;n22=0;n12=0;n21=0\n",
    "        for i in testdata.index:\n",
    "            result=self.classify(i,testdata) #classify item in testing dataset\n",
    "            sum_result.update(result) #save classify result with id:result in dictionary\n",
    "            if result[i]=='Yes'and HR.loc[i][1]=='Yes':\n",
    "                n11=n11+1\n",
    "            elif result[i]=='No'and HR.loc[i][1]=='No':\n",
    "                n22=n22+1\n",
    "            elif result[i]=='Yes'and HR.loc[i][1]=='No':\n",
    "                n12=n12+1\n",
    "            elif result[i]=='No'and HR.loc[i][1]=='Yes':\n",
    "                n21=n21+1\n",
    "        n=testdata.shape[0]\n",
    "        p=(n11+n22)/n\n",
    "        r=((n11+n12)/n)*(n11+n21)+((n21+n22)/n)*(n12+n22)\n",
    "        pr=r/n\n",
    "        #print result of classify(Confusion Matrix) and accuracy \n",
    "        print( \"\\n        Classified as: \")\n",
    "        print(\"         \"+\"Yes\"+\"     No\"+\"      Total\")\n",
    "        print(\"------+-------+--------+-------\")\n",
    "        print(\"|Yes   | \",n11,\" | \",n21,\"   | \",n21+n11,'|')\n",
    "        print(\"|No    | \",n12,\" | \",n22,\"  |\",n22+n12,'|')\n",
    "        print(\"|Total | \",n11+n12,\" | \",n21+n22,\"  |\",n,'|')\n",
    "        print('\\npercent correct of Bayes Method:%5.3f'%p)\n",
    "        print('percent correct of Random Method:%5.3f'%pr)\n",
    "        print('Kappa statistic=%5.3f'%((p-pr)/(1-pr)))"
   ]
  },
  {
   "cell_type": "code",
   "execution_count": 4,
   "metadata": {},
   "outputs": [],
   "source": [
    "train=HR.head(1323)\n",
    "test=HR.drop(train.index,axis=0)"
   ]
  },
  {
   "cell_type": "code",
   "execution_count": 29,
   "metadata": {
    "collapsed": true
   },
   "outputs": [],
   "source": [
    "\n",
    "# Use trainin dataset to train classifier system\n",
    "classify_Bayes=Classifier_Bayes(train)\n",
    "# calculate mean and ssd value of numeric variable, saving in dictionarys:\n",
    "# attrition_meanandssd and nonattrition_meanandssd\n",
    "classify_Bayes.meanandssd_dictionary()\n",
    "classify_Bayes.name()\n",
    "# calculate conditional pdf of categorical variable, saving in dictionarys:\n",
    "#  attrition_pdf and nonattrition_pdf\n",
    "classify_Bayes.categorical_pdf_dictionary()\n"
   ]
  },
  {
   "cell_type": "code",
   "execution_count": 30,
   "metadata": {},
   "outputs": [
    {
     "data": {
      "text/plain": [
       "1.2970208617008771e-36"
      ]
     },
     "execution_count": 30,
     "metadata": {},
     "output_type": "execute_result"
    }
   ],
   "source": [
    "classify_Bayes.conditionalprobabilty(1400,'nonattrition',test)"
   ]
  },
  {
   "cell_type": "code",
   "execution_count": 31,
   "metadata": {},
   "outputs": [
    {
     "data": {
      "text/plain": [
       "2.1295478087702185e-36"
      ]
     },
     "execution_count": 31,
     "metadata": {},
     "output_type": "execute_result"
    }
   ],
   "source": [
    "classify_Bayes.conditionalprobabilty(1400,'attrition',test)"
   ]
  },
  {
   "cell_type": "code",
   "execution_count": 32,
   "metadata": {},
   "outputs": [
    {
     "data": {
      "text/plain": [
       "{1400: 'Yes'}"
      ]
     },
     "execution_count": 32,
     "metadata": {},
     "output_type": "execute_result"
    }
   ],
   "source": [
    "classify_Bayes.classify(1400,test)"
   ]
  },
  {
   "cell_type": "code",
   "execution_count": 33,
   "metadata": {},
   "outputs": [
    {
     "name": "stdout",
     "output_type": "stream",
     "text": [
      "\n",
      "        Classified as: \n",
      "         Yes     No      Total\n",
      "------+-------+--------+-------\n",
      "|Yes   |  14  |  5    |  19 |\n",
      "|No    |  27  |  101   | 128 |\n",
      "|Total |  41  |  106   | 147 |\n",
      "\n",
      "percent correct of Bayes Method:0.782\n",
      "percent correct of Random Method:0.664\n",
      "Kappa statistic=0.352\n"
     ]
    }
   ],
   "source": [
    "classify_Bayes.bayes_testaccuracy(test)"
   ]
  },
  {
   "cell_type": "code",
   "execution_count": null,
   "metadata": {
    "collapsed": true
   },
   "outputs": [],
   "source": []
  }
 ],
 "metadata": {
  "kernelspec": {
   "display_name": "Python 3",
   "language": "python",
   "name": "python3"
  },
  "language_info": {
   "codemirror_mode": {
    "name": "ipython",
    "version": 3
   },
   "file_extension": ".py",
   "mimetype": "text/x-python",
   "name": "python",
   "nbconvert_exporter": "python",
   "pygments_lexer": "ipython3",
   "version": "3.6.1"
  }
 },
 "nbformat": 4,
 "nbformat_minor": 2
}
